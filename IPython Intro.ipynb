{
 "metadata": {
  "name": "IPython Intro"
 },
 "nbformat": 3,
 "nbformat_minor": 0,
 "worksheets": [
  {
   "cells": [
    {
     "cell_type": "markdown",
     "metadata": {},
     "source": [
      "# IPython => Interactive Python\n",
      "Allows you to code & execute python code in your browser.   \n",
      "\n",
      "## Install \n",
      "easy_install ipython\n",
      "pip install ipython\n",
      "\n",
      "## Invoke from command line via\n",
      "\n",
      "Start the server with plotting functionality.\n",
      "\n",
      "    ipython notebook --pylab=inline\n",
      "\n",
      "For in depth tutorial, see https://us.pycon.org/2012/schedule/presentation/121/\n",
      " \n",
      "For a list of keyboard shortcuts:"
     ]
    },
    {
     "cell_type": "code",
     "collapsed": false,
     "input": [
      "# Press CTRL-m h"
     ],
     "language": "python",
     "metadata": {},
     "outputs": []
    },
    {
     "cell_type": "markdown",
     "metadata": {},
     "source": [
      "Execute code."
     ]
    },
    {
     "cell_type": "code",
     "collapsed": false,
     "input": [
      "# CTRL-ENTER to execute code in current block\n",
      "print \"Hello World\""
     ],
     "language": "python",
     "metadata": {},
     "outputs": [
      {
       "output_type": "stream",
       "stream": "stdout",
       "text": [
        "Hello World\n"
       ]
      }
     ],
     "prompt_number": 2
    },
    {
     "cell_type": "code",
     "collapsed": false,
     "input": [
      "# SHIFT-ENTER to execute the current code & jump to next block\n",
      "[x + 1 for x in xrange(10)]"
     ],
     "language": "python",
     "metadata": {},
     "outputs": [
      {
       "output_type": "pyout",
       "prompt_number": 5,
       "text": [
        "[1, 2, 3, 4, 5, 6, 7, 8, 9, 10]"
       ]
      }
     ],
     "prompt_number": 5
    },
    {
     "cell_type": "markdown",
     "metadata": {},
     "source": [
      "For help."
     ]
    },
    {
     "cell_type": "code",
     "collapsed": false,
     "input": [
      "# CTRL-m-h help menu popup\n",
      "# Built in tab completion"
     ],
     "language": "python",
     "metadata": {},
     "outputs": [],
     "prompt_number": 7
    },
    {
     "cell_type": "code",
     "collapsed": false,
     "input": [
      "# Type enumerate to see a tooltip\n",
      "enumerate?"
     ],
     "language": "python",
     "metadata": {},
     "outputs": [],
     "prompt_number": 9
    },
    {
     "cell_type": "markdown",
     "metadata": {},
     "source": [
      "Use shell command magic with TAB completion."
     ]
    },
    {
     "cell_type": "code",
     "collapsed": false,
     "input": [
      "ls "
     ],
     "language": "python",
     "metadata": {},
     "outputs": [
      {
       "output_type": "stream",
       "stream": "stdout",
       "text": [
        "011 Explore interactively with IPython.ipynb\r\n",
        "100 Animate a heatmap.ipynb\r\n",
        "\u001b[34mDesktop\u001b[m\u001b[m/\r\n",
        "\u001b[34mDocuments\u001b[m\u001b[m/\r\n",
        "\u001b[34mDownloads\u001b[m\u001b[m/\r\n",
        "\u001b[34mDropbox\u001b[m\u001b[m/\r\n",
        "IPython Intro.ipynb\r\n",
        "\u001b[34mLibrary\u001b[m\u001b[m/\r\n",
        "\u001b[34mMovies\u001b[m\u001b[m/\r\n",
        "\u001b[34mMusic\u001b[m\u001b[m/\r\n",
        "\u001b[34mPictures\u001b[m\u001b[m/\r\n",
        "\u001b[34mPublic\u001b[m\u001b[m/\r\n",
        "Untitled0.ipynb\r\n",
        "f1.ipynb\r\n",
        "mynb.ipynb\r\n"
       ]
      }
     ],
     "prompt_number": 13
    },
    {
     "cell_type": "code",
     "collapsed": false,
     "input": [
      "files = !ls  # Store shell output in a variable"
     ],
     "language": "python",
     "metadata": {},
     "outputs": []
    },
    {
     "cell_type": "code",
     "collapsed": false,
     "input": [
      "# type cd ~/Doc<TAB><CTRL-ENTER>\n",
      "cd ~/Documents/"
     ],
     "language": "python",
     "metadata": {},
     "outputs": []
    },
    {
     "cell_type": "markdown",
     "metadata": {},
     "source": [
      "Copy and paste code and IPython \n",
      "\n",
      "    >>> def add(x, y):\n",
      "    ...     return x + y\n",
      "    >>> add(1, 2)"
     ]
    },
    {
     "cell_type": "code",
     "collapsed": false,
     "input": [
      "# Copy/Paste code here and press CTRL-ENTER\n",
      " >>> def add(x, y):\n",
      "    ...     return x + y\n",
      "    >>> add(1, 2)"
     ],
     "language": "python",
     "metadata": {},
     "outputs": [
      {
       "output_type": "pyout",
       "prompt_number": 15,
       "text": [
        "3"
       ]
      }
     ],
     "prompt_number": 15
    },
    {
     "cell_type": "markdown",
     "metadata": {},
     "source": [
      "Examine variables in your session namespace."
     ]
    },
    {
     "cell_type": "code",
     "collapsed": false,
     "input": [
      "# Press SHIFT-ENTER\n",
      "x = 1"
     ],
     "language": "python",
     "metadata": {},
     "outputs": []
    },
    {
     "cell_type": "code",
     "collapsed": false,
     "input": [
      "whos"
     ],
     "language": "python",
     "metadata": {},
     "outputs": [
      {
       "output_type": "stream",
       "stream": "stdout",
       "text": [
        "Variable   Type      Data/Info\n",
        "------------------------------\n",
        "IPython    module    <module 'IPython' from '/<...>ges/IPython/__init__.py'>\n",
        "x          int       9\n"
       ]
      }
     ],
     "prompt_number": 16
    },
    {
     "cell_type": "markdown",
     "metadata": {},
     "source": [
      "Compare execution speed."
     ]
    },
    {
     "cell_type": "code",
     "collapsed": false,
     "input": [
      "timeit 100 ** 100"
     ],
     "language": "python",
     "metadata": {},
     "outputs": [
      {
       "output_type": "stream",
       "stream": "stdout",
       "text": [
        "10000000 loops, best of 3: 21.2 ns per loop\n"
       ]
      }
     ],
     "prompt_number": 20
    },
    {
     "cell_type": "code",
     "collapsed": false,
     "input": [
      "timeit pow(100, 100)"
     ],
     "language": "python",
     "metadata": {},
     "outputs": [
      {
       "output_type": "stream",
       "stream": "stdout",
       "text": [
        "1000000 loops, best of 3: 1.83 us per loop\n"
       ]
      }
     ],
     "prompt_number": 21
    },
    {
     "cell_type": "markdown",
     "metadata": {},
     "source": [
      "Mathematical expressions in LaTeX [MathJax]:\n",
      "\n",
      "$\\left( \\sum_{k=1}^n a_k b_k \\right)^2 \\leq \\left( \\sum_{k=1}^n a_k^2 \\right) \\left( \\sum_{k=1}^n b_k^2 \\right)$\n",
      "\n"
     ]
    },
    {
     "cell_type": "code",
     "collapsed": false,
     "input": [
      "## Youtube Example"
     ],
     "language": "python",
     "metadata": {},
     "outputs": []
    },
    {
     "cell_type": "code",
     "collapsed": false,
     "input": [
      "from IPython.lib.display import YouTubeVideo\n",
      "YouTubeVideo('iwVvqwLDsJo')"
     ],
     "language": "python",
     "metadata": {},
     "outputs": [
      {
       "html": [
        "\n",
        "            <iframe\n",
        "                width=\"400\"\n",
        "                height=\"300\"\n",
        "                src=\"http://www.youtube.com/embed/iwVvqwLDsJo\"\n",
        "                frameborder=\"0\"\n",
        "                allowfullscreen\n",
        "            ></iframe>\n",
        "        "
       ],
       "output_type": "pyout",
       "prompt_number": 28,
       "text": [
        "<IPython.lib.display.YouTubeVideo at 0x533a190>"
       ]
      }
     ],
     "prompt_number": 28
    },
    {
     "cell_type": "code",
     "collapsed": false,
     "input": [],
     "language": "python",
     "metadata": {},
     "outputs": [],
     "prompt_number": 24
    }
   ],
   "metadata": {}
  }
 ]
}