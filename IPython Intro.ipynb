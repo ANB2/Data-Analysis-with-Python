{
 "metadata": {
  "name": "IPython Intro"
 },
 "nbformat": 3,
 "nbformat_minor": 0,
 "worksheets": [
  {
   "cells": [
    {
     "cell_type": "markdown",
     "metadata": {},
     "source": [
      "# IPython => Interactive Python\n",
      "Allows you to code & execute python code in your browser.   \n",
      "\n",
      "- [Installation notes](http://ipython.org/install.html)\n",
      "    \n",
      "- [EPD](https://www.enthought.com/products/epd_free.php)\n",
      "\n",
      "- [Anaconda](http://continuum.io/downloads.html)\n",
      "    \n",
      "    \n",
      "###Mac or Windows\n",
      "\n",
      "1. Download and install Anaconda or the free edition of the Enthought Python Distribution (EPD).\n",
      "\n",
      "2. Update IPython to the current version:\n",
      "On a Mac, using the Terminal application:\n",
      "\n",
      "###Anaconda:\n",
      "\n",
      "conda update conda\n",
      "conda update ipython\n",
      "\n",
      "\n",
      "###EPD:\n",
      "\n",
      "sudo enpkg enstaller\n",
      "sudo enpkg ipython\n",
      "On Windows, at the Command Prompt (cmd.exe application):\n",
      "\n",
      "###Anaconda:\n",
      "\n",
      "conda update conda\n",
      "conda update ipython\n",
      "\n",
      "\n",
      "###EPD:\n",
      "\n",
      "enpkg enstaller\n",
      "enpkg ipython\n",
      "\n",
      "\n",
      "###Linux\n",
      "\n",
      "On Linux, most distributions have everything you need in their package managers.\n",
      "\n",
      "Install IPython and its dependencies:\n",
      "On Ubuntu or other Debian-based distributions, type at the shell:\n",
      "\n",
      "sudo apt-get install ipython-notebook\n",
      "On Fedora 18 and newer related distributions, use:\n",
      "\n",
      "sudo yum install python-ipython-notebook\n",
      "Optionally install additional tools for scientific computing:\n",
      "On Ubuntu or other Debian-based distributions, type at the shell:\n",
      "\n",
      "sudo apt-get install python-matplotlib python-scipy \\\n",
      "                     python-pandas python-sympy python-nose\n",
      "On Fedora 18 and newer related distributions, use:\n",
      "\n",
      "sudo yum install python-matplotlib scipy python-pandas sympy python-nose\n",
      "\n",
      "## Invoke from command line via\n",
      "\n",
      "Start the server with plotting functionality.\n",
      "\n",
      "    ipython notebook --pylab=inline\n",
      "\n",
      "For in depth tutorial, see https://us.pycon.org/2012/schedule/presentation/121/\n",
      " \n",
      "For a list of keyboard shortcuts:"
     ]
    },
    {
     "cell_type": "markdown",
     "metadata": {},
     "source": [
      "Stack Exchange Data Explorer 2.0 (R, Pandas)\n",
      "\n",
      "http://blog.stackoverflow.com/category/cc-wiki-dump"
     ]
    },
    {
     "cell_type": "code",
     "collapsed": false,
     "input": [
      "# Press CTRL-m h"
     ],
     "language": "python",
     "metadata": {},
     "outputs": []
    },
    {
     "cell_type": "markdown",
     "metadata": {},
     "source": [
      "Execute code."
     ]
    },
    {
     "cell_type": "code",
     "collapsed": false,
     "input": [
      "# CTRL-ENTER to execute code in current block\n",
      "print \"Hello World\""
     ],
     "language": "python",
     "metadata": {},
     "outputs": [
      {
       "output_type": "stream",
       "stream": "stdout",
       "text": [
        "Hello World\n"
       ]
      }
     ],
     "prompt_number": 2
    },
    {
     "cell_type": "code",
     "collapsed": false,
     "input": [
      "# SHIFT-ENTER to execute the current code & jump to next block\n",
      "[x + 1 for x in xrange(10)]"
     ],
     "language": "python",
     "metadata": {},
     "outputs": [
      {
       "output_type": "pyout",
       "prompt_number": 5,
       "text": [
        "[1, 2, 3, 4, 5, 6, 7, 8, 9, 10]"
       ]
      }
     ],
     "prompt_number": 5
    },
    {
     "cell_type": "markdown",
     "metadata": {},
     "source": [
      "For help."
     ]
    },
    {
     "cell_type": "code",
     "collapsed": false,
     "input": [
      "# CTRL-m-h help menu popup\n",
      "# Built in tab completion"
     ],
     "language": "python",
     "metadata": {},
     "outputs": [],
     "prompt_number": 7
    },
    {
     "cell_type": "code",
     "collapsed": false,
     "input": [
      "# Type enumerate to see a tooltip\n",
      "enumerate?"
     ],
     "language": "python",
     "metadata": {},
     "outputs": [],
     "prompt_number": 2
    },
    {
     "cell_type": "markdown",
     "metadata": {},
     "source": [
      "Use shell command magic with TAB completion."
     ]
    },
    {
     "cell_type": "code",
     "collapsed": false,
     "input": [
      "ls "
     ],
     "language": "python",
     "metadata": {},
     "outputs": [
      {
       "output_type": "stream",
       "stream": "stdout",
       "text": [
        "051 Analyze network relationships with NetworkX.ipynb\r\n",
        "Data Analysis 101.ipynb\r\n",
        "\u001b[34mDesktop\u001b[m\u001b[m/\r\n",
        "\u001b[34mDocuments\u001b[m\u001b[m/\r\n",
        "\u001b[34mDownloads\u001b[m\u001b[m/\r\n",
        "\u001b[34mDropbox\u001b[m\u001b[m/\r\n",
        "\u001b[34mEnvs\u001b[m\u001b[m/\r\n",
        "IPython Intro.ipynb\r\n",
        "\u001b[34mLibrary\u001b[m\u001b[m/\r\n",
        "\u001b[34mMovies\u001b[m\u001b[m/\r\n",
        "\u001b[34mMusic\u001b[m\u001b[m/\r\n",
        "NetworkX Use Case.ipynb\r\n",
        "NumPy, SciPy, Pandas Use Cases.ipynb\r\n",
        "Pandas ETL.ipynb\r\n",
        "\u001b[34mPictures\u001b[m\u001b[m/\r\n",
        "\u001b[34mPublic\u001b[m\u001b[m/\r\n",
        "Time Series analysis.ipynb\r\n",
        "scikit-learn Use Case.ipynb\r\n",
        "\u001b[34mspringsource\u001b[m\u001b[m/\r\n",
        "weka.log\r\n"
       ]
      }
     ],
     "prompt_number": 4
    },
    {
     "cell_type": "code",
     "collapsed": false,
     "input": [
      "files = !ls  # Store shell output in a variable"
     ],
     "language": "python",
     "metadata": {},
     "outputs": []
    },
    {
     "cell_type": "code",
     "collapsed": false,
     "input": [
      "# type cd ~/Doc<TAB><CTRL-ENTER>\n",
      "cd ~/Documents/"
     ],
     "language": "python",
     "metadata": {},
     "outputs": []
    },
    {
     "cell_type": "markdown",
     "metadata": {},
     "source": [
      "Copy and paste code and IPython \n",
      "\n",
      "    >>> def add(x, y):\n",
      "    ...     return x + y\n",
      "    >>> add(1, 2)"
     ]
    },
    {
     "cell_type": "code",
     "collapsed": false,
     "input": [
      "# Copy/Paste code here and press CTRL-ENTER\n",
      " >>> def add(x, y):\n",
      "    ...     return x + y\n",
      "    >>> add(1, 2)"
     ],
     "language": "python",
     "metadata": {},
     "outputs": [
      {
       "output_type": "pyout",
       "prompt_number": 15,
       "text": [
        "3"
       ]
      }
     ],
     "prompt_number": 15
    },
    {
     "cell_type": "markdown",
     "metadata": {},
     "source": [
      "Examine variables in your session namespace."
     ]
    },
    {
     "cell_type": "code",
     "collapsed": false,
     "input": [
      "# Press SHIFT-ENTER\n",
      "x = 1"
     ],
     "language": "python",
     "metadata": {},
     "outputs": []
    },
    {
     "cell_type": "code",
     "collapsed": false,
     "input": [
      "whos"
     ],
     "language": "python",
     "metadata": {},
     "outputs": [
      {
       "output_type": "stream",
       "stream": "stdout",
       "text": [
        "Variable   Type      Data/Info\n",
        "------------------------------\n",
        "IPython    module    <module 'IPython' from '/<...>ges/IPython/__init__.py'>\n",
        "x          int       9\n"
       ]
      }
     ],
     "prompt_number": 16
    },
    {
     "cell_type": "markdown",
     "metadata": {},
     "source": [
      "Compare execution speed."
     ]
    },
    {
     "cell_type": "code",
     "collapsed": false,
     "input": [
      "timeit 100 ** 100"
     ],
     "language": "python",
     "metadata": {},
     "outputs": [
      {
       "output_type": "stream",
       "stream": "stdout",
       "text": [
        "10000000 loops, best of 3: 21.2 ns per loop\n"
       ]
      }
     ],
     "prompt_number": 20
    },
    {
     "cell_type": "code",
     "collapsed": false,
     "input": [
      "timeit pow(100, 100)"
     ],
     "language": "python",
     "metadata": {},
     "outputs": [
      {
       "output_type": "stream",
       "stream": "stdout",
       "text": [
        "1000000 loops, best of 3: 1.83 us per loop\n"
       ]
      }
     ],
     "prompt_number": 21
    },
    {
     "cell_type": "code",
     "collapsed": false,
     "input": [
      "import pandas as pd\n",
      "plot(rand(100))"
     ],
     "language": "python",
     "metadata": {},
     "outputs": [
      {
       "output_type": "pyout",
       "prompt_number": 1,
       "text": [
        "[<matplotlib.lines.Line2D at 0x10de7eb50>]"
       ]
      },
      {
       "output_type": "display_data",
       "png": "[encoded data removed]",
       "text": [
        "<matplotlib.figure.Figure at 0x10c8c9690>"
       ]
      }
     ],
     "prompt_number": 1
    },
    {
     "cell_type": "markdown",
     "metadata": {},
     "source": [
      "Mathematical expressions in LaTeX [MathJax]:\n",
      "\n",
      "$\\left( \\sum_{k=1}^n a_k b_k \\right)^2 \\leq \\left( \\sum_{k=1}^n a_k^2 \\right) \\left( \\sum_{k=1}^n b_k^2 \\right)$\n",
      "\n"
     ]
    },
    {
     "cell_type": "code",
     "collapsed": false,
     "input": [
      "## Youtube Example"
     ],
     "language": "python",
     "metadata": {},
     "outputs": []
    },
    {
     "cell_type": "code",
     "collapsed": false,
     "input": [
      "from IPython.lib.display import YouTubeVideo\n",
      "YouTubeVideo('iwVvqwLDsJo')"
     ],
     "language": "python",
     "metadata": {},
     "outputs": [
      {
       "html": [
        "\n",
        "            <iframe\n",
        "                width=\"400\"\n",
        "                height=\"300\"\n",
        "                src=\"http://www.youtube.com/embed/iwVvqwLDsJo\"\n",
        "                frameborder=\"0\"\n",
        "                allowfullscreen\n",
        "            ></iframe>\n",
        "        "
       ],
       "output_type": "pyout",
       "prompt_number": 28,
       "text": [
        "<IPython.lib.display.YouTubeVideo at 0x533a190>"
       ]
      }
     ],
     "prompt_number": 28
    },
    {
     "cell_type": "markdown",
     "metadata": {},
     "source": [
      "- [Browse other cool IPython notebooks](https://github.com/ipython/ipython/wiki/A-gallery-of-interesting-IPython-Notebooks)"
     ]
    }
   ],
   "metadata": {}
  }
 ]
}