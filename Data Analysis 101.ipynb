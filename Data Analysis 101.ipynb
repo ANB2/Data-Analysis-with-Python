{
 "metadata": {
  "name": "Data Analysis 101"
 },
 "nbformat": 3,
 "nbformat_minor": 0,
 "worksheets": [
  {
   "cells": [
    {
     "cell_type": "markdown",
     "metadata": {},
     "source": [
      "##Two types of Data\n",
      "\n",
      "Numerical \n",
      "+ continious\n",
      "+ discrete\n",
      "  + interval (calendar, units of temprature)\n",
      "  + ratio \n",
      "Categorical\n",
      "  + Nominal \n",
      "  + Ordinal\n",
      "\n",
      "Can data be sorted...\n",
      "Blue, Red, Green => [-1, 0, 1] \n",
      "\n",
      "The data type is not inherent in the data \u2014 it only arises from its context. Think average of 2 zip codes..."
     ]
    },
    {
     "cell_type": "markdown",
     "metadata": {},
     "source": [
      "###Types of Data\n",
      "####Univariate: single variable\n",
      "\n",
      "We typically want to know how individual points are distributed, shape of disribution, whether its symmetric, does it have outliers!\n",
      "\n",
      "\n",
      "####Bivariate: Two variables. \n",
      "\n",
      "We usually want to know whether there is a relationship between 2 quantities. \n",
      "\n",
      "\n",
      "####Multivariate: > 2 variables.\n",
      "\n",
      "We typically want to find a smaller group of variables that still contains most of the info in the data set.\n"
     ]
    },
    {
     "cell_type": "markdown",
     "metadata": {},
     "source": [
      "### Questions about data sets\n",
      "\n",
      "Num of records\n",
      "\n",
      "Num of data fields\n",
      "\n",
      "Does data fit into memory? single disk? disk array? \n",
      "\n",
      "How many missing values? Junk values?\n",
      "\n",
      "How many duplicates?\n",
      "\n",
      "Are there labels (for dependent variable)?\n",
      "\n",
      "Are there keys?\n",
      "\n",
      "** May have to format & normalize data (timezones, monetary unit values etc...)"
     ]
    },
    {
     "cell_type": "markdown",
     "metadata": {},
     "source": [
      "### Questions about data fields\n",
      "\n",
      "#### Data fields\n",
      "What is the mean, variance, mode, median...?\n",
      "\n",
      "What is the distribution? Hint: Plot historgram\n",
      "\n",
      "What are extreme values, missing values, unusual values?\n",
      "\n",
      "\n"
     ]
    },
    {
     "cell_type": "markdown",
     "metadata": {},
     "source": [
      "#### Pairs of data fields\n",
      "What is the correlation? Plot scatter plot"
     ]
    },
    {
     "cell_type": "markdown",
     "metadata": {},
     "source": [
      "#### Visualize the data  \n",
      "\n",
      "Histograms, scatter plots, etc...\n",
      "You can produce plots, but not be able to print them"
     ]
    },
    {
     "cell_type": "markdown",
     "metadata": {},
     "source": [
      "Sample Data\n",
      "\n",
      "Randomly pick some of the records.\n",
      "\n",
      "###Take care of your data\n",
      "All data sets are self-explanatory and reproducible.\n",
      "\n",
      "To ensure data is self-explanatory, include all the information necessary to make sense of it.\n",
      " \n",
      "To ensure data is reproducible, keep track of its source and the cleaning and conditioning transformations (original data set if you have merged data sets).\n",
      "  "
     ]
    },
    {
     "cell_type": "markdown",
     "metadata": {},
     "source": [
      "###Data Analysis Motivation\n",
      "\n",
      "####Use Case Fraud Detection\n",
      "\n",
      "Events: Credit card transactions\n",
      "\n",
      "Entities: Credit card accounts\n",
      "\n",
      "Features: # of transactions past 10 minutes\n",
      "\n",
      "Models: CART (Classification and regression trees)\n",
      "\n",
      "Scores: Likelihood of fraudulent account\n",
      "\n"
     ]
    },
    {
     "cell_type": "markdown",
     "metadata": {},
     "source": [
      "####Use Case Online Adv\n",
      "\n",
      "Events: Impressions & clicks\n",
      "\n",
      "Entities: Cookies, user IDs\n",
      "\n",
      "Features: # of impressions per category\n",
      "\n",
      "Models: Clusters, trees, recommendation\n",
      "\n",
      "Scores: Likelihood of clicking "
     ]
    },
    {
     "cell_type": "markdown",
     "metadata": {},
     "source": [
      "Ask for more Data\n",
      "\n",
      "Ask for more Orthogonal Data"
     ]
    },
    {
     "cell_type": "markdown",
     "metadata": {},
     "source": [
      "### Pandas aligns labelled data"
     ]
    },
    {
     "cell_type": "code",
     "collapsed": false,
     "input": [
      "cd Documents/data_analysis/data"
     ],
     "language": "python",
     "metadata": {},
     "outputs": [
      {
       "output_type": "stream",
       "stream": "stdout",
       "text": [
        "/Users/Babalu/Documents/data_analysis/data\n"
       ]
      }
     ],
     "prompt_number": 1
    },
    {
     "cell_type": "code",
     "collapsed": false,
     "input": [
      "import pandas as pd \n",
      "from pandas import Series, DataFrame, Panel\n",
      "from IPython.display import HTML"
     ],
     "language": "python",
     "metadata": {},
     "outputs": []
    },
    {
     "cell_type": "code",
     "collapsed": false,
     "input": [
      "dataset = 'Pandas'\n",
      "users = pd.read_csv('AUDUSD_Ticks.csv')"
     ],
     "language": "python",
     "metadata": {},
     "outputs": [],
     "prompt_number": 9
    },
    {
     "cell_type": "code",
     "collapsed": false,
     "input": [
      "users"
     ],
     "language": "python",
     "metadata": {},
     "outputs": [
      {
       "html": [
        "<pre>\n",
        "&ltclass 'pandas.core.frame.DataFrame'&gt\n",
        "Int64Index: 58460 entries, 0 to 58459\n",
        "Data columns (total 5 columns):\n",
        "Time         58460  non-null values\n",
        "Ask          58460  non-null values\n",
        "Bid          58460  non-null values\n",
        "AskVolume    58460  non-null values\n",
        "BidVolume    58460  non-null values\n",
        "dtypes: float64(4), object(1)\n",
        "</pre>"
       ],
       "output_type": "pyout",
       "prompt_number": 10,
       "text": [
        "<class 'pandas.core.frame.DataFrame'>\n",
        "Int64Index: 58460 entries, 0 to 58459\n",
        "Data columns (total 5 columns):\n",
        "Time         58460  non-null values\n",
        "Ask          58460  non-null values\n",
        "Bid          58460  non-null values\n",
        "AskVolume    58460  non-null values\n",
        "BidVolume    58460  non-null values\n",
        "dtypes: float64(4), object(1)"
       ]
      }
     ],
     "prompt_number": 10
    },
    {
     "cell_type": "markdown",
     "metadata": {},
     "source": [
      "### Series is a list with labelled items"
     ]
    },
    {
     "cell_type": "code",
     "collapsed": false,
     "input": [
      "# Series({...})\n",
      "users.Bid"
     ],
     "language": "python",
     "metadata": {},
     "outputs": [
      {
       "output_type": "pyout",
       "prompt_number": 11,
       "text": [
        "0     1.02727\n",
        "1     1.02727\n",
        "2     1.02727\n",
        "3     1.02726\n",
        "4     1.02729\n",
        "5     1.02728\n",
        "6     1.02728\n",
        "7     1.02726\n",
        "8     1.02726\n",
        "9     1.02726\n",
        "10    1.02726\n",
        "11    1.02727\n",
        "12    1.02726\n",
        "13    1.02727\n",
        "14    1.02727\n",
        "...\n",
        "58445    1.02562\n",
        "58446    1.02562\n",
        "58447    1.02564\n",
        "58448    1.02567\n",
        "58449    1.02564\n",
        "58450    1.02562\n",
        "58451    1.02561\n",
        "58452    1.02561\n",
        "58453    1.02558\n",
        "58454    1.02559\n",
        "58455    1.02559\n",
        "58456    1.02557\n",
        "58457    1.02557\n",
        "58458    1.02556\n",
        "58459    1.02558\n",
        "Name: Bid, Length: 58460, dtype: float64"
       ]
      }
     ],
     "prompt_number": 11
    },
    {
     "cell_type": "markdown",
     "metadata": {},
     "source": []
    },
    {
     "cell_type": "code",
     "collapsed": false,
     "input": [
      "users.Bid[4]"
     ],
     "language": "python",
     "metadata": {},
     "outputs": [
      {
       "output_type": "pyout",
       "prompt_number": 17,
       "text": [
        "1.02729"
       ]
      }
     ],
     "prompt_number": 17
    },
    {
     "cell_type": "markdown",
     "metadata": {},
     "source": [
      "### DataFrame is a table with labelled columns and rows"
     ]
    },
    {
     "cell_type": "code",
     "collapsed": false,
     "input": [
      "bid_ask_prices = DataFrame(dict(\n",
      "    bid=users.Bid,\n",
      "    ask=users.Ask))\n",
      "\n",
      "HTML(bid_ask_prices.head(10).to_html())"
     ],
     "language": "python",
     "metadata": {},
     "outputs": [
      {
       "html": [
        "<table border=\"1\" class=\"dataframe\">\n",
        "  <thead>\n",
        "    <tr style=\"text-align: right;\">\n",
        "      <th></th>\n",
        "      <th>ask</th>\n",
        "      <th>bid</th>\n",
        "    </tr>\n",
        "  </thead>\n",
        "  <tbody>\n",
        "    <tr>\n",
        "      <th>0</th>\n",
        "      <td> 1.02741</td>\n",
        "      <td> 1.02727</td>\n",
        "    </tr>\n",
        "    <tr>\n",
        "      <th>1</th>\n",
        "      <td> 1.02742</td>\n",
        "      <td> 1.02727</td>\n",
        "    </tr>\n",
        "    <tr>\n",
        "      <th>2</th>\n",
        "      <td> 1.02741</td>\n",
        "      <td> 1.02727</td>\n",
        "    </tr>\n",
        "    <tr>\n",
        "      <th>3</th>\n",
        "      <td> 1.02741</td>\n",
        "      <td> 1.02726</td>\n",
        "    </tr>\n",
        "    <tr>\n",
        "      <th>4</th>\n",
        "      <td> 1.02742</td>\n",
        "      <td> 1.02729</td>\n",
        "    </tr>\n",
        "    <tr>\n",
        "      <th>5</th>\n",
        "      <td> 1.02742</td>\n",
        "      <td> 1.02728</td>\n",
        "    </tr>\n",
        "    <tr>\n",
        "      <th>6</th>\n",
        "      <td> 1.02742</td>\n",
        "      <td> 1.02728</td>\n",
        "    </tr>\n",
        "    <tr>\n",
        "      <th>7</th>\n",
        "      <td> 1.02742</td>\n",
        "      <td> 1.02726</td>\n",
        "    </tr>\n",
        "    <tr>\n",
        "      <th>8</th>\n",
        "      <td> 1.02742</td>\n",
        "      <td> 1.02726</td>\n",
        "    </tr>\n",
        "    <tr>\n",
        "      <th>9</th>\n",
        "      <td> 1.02742</td>\n",
        "      <td> 1.02726</td>\n",
        "    </tr>\n",
        "  </tbody>\n",
        "</table>"
       ],
       "output_type": "pyout",
       "prompt_number": 22,
       "text": [
        "<IPython.core.display.HTML at 0x1114456d0>"
       ]
      }
     ],
     "prompt_number": 22
    },
    {
     "cell_type": "code",
     "collapsed": false,
     "input": [
      "bid_ask_prices[:3]"
     ],
     "language": "python",
     "metadata": {},
     "outputs": [
      {
       "html": [
        "<div style=\"max-height:1000px;max-width:1500px;overflow:auto;\">\n",
        "<table border=\"1\" class=\"dataframe\">\n",
        "  <thead>\n",
        "    <tr style=\"text-align: right;\">\n",
        "      <th></th>\n",
        "      <th>ask</th>\n",
        "      <th>bid</th>\n",
        "    </tr>\n",
        "  </thead>\n",
        "  <tbody>\n",
        "    <tr>\n",
        "      <th>0</th>\n",
        "      <td> 1.02741</td>\n",
        "      <td> 1.02727</td>\n",
        "    </tr>\n",
        "    <tr>\n",
        "      <th>1</th>\n",
        "      <td> 1.02742</td>\n",
        "      <td> 1.02727</td>\n",
        "    </tr>\n",
        "    <tr>\n",
        "      <th>2</th>\n",
        "      <td> 1.02741</td>\n",
        "      <td> 1.02727</td>\n",
        "    </tr>\n",
        "  </tbody>\n",
        "</table>\n",
        "</div>"
       ],
       "output_type": "pyout",
       "prompt_number": 28,
       "text": [
        "       ask      bid\n",
        "0  1.02741  1.02727\n",
        "1  1.02742  1.02727\n",
        "2  1.02741  1.02727"
       ]
      }
     ],
     "prompt_number": 28
    },
    {
     "cell_type": "code",
     "collapsed": false,
     "input": [
      "bid_ask_volume = DataFrame(dict(\n",
      "    bid=users.BidVolume,\n",
      "    ask=users.AskVolume))\n",
      "\n",
      "HTML(bid_ask_volume.head(10).to_html())"
     ],
     "language": "python",
     "metadata": {},
     "outputs": [
      {
       "html": [
        "<table border=\"1\" class=\"dataframe\">\n",
        "  <thead>\n",
        "    <tr style=\"text-align: right;\">\n",
        "      <th></th>\n",
        "      <th>ask</th>\n",
        "      <th>bid</th>\n",
        "    </tr>\n",
        "  </thead>\n",
        "  <tbody>\n",
        "    <tr>\n",
        "      <th>0</th>\n",
        "      <td> 1.50</td>\n",
        "      <td> 3.00</td>\n",
        "    </tr>\n",
        "    <tr>\n",
        "      <th>1</th>\n",
        "      <td> 1.50</td>\n",
        "      <td> 1.50</td>\n",
        "    </tr>\n",
        "    <tr>\n",
        "      <th>2</th>\n",
        "      <td> 1.50</td>\n",
        "      <td> 1.50</td>\n",
        "    </tr>\n",
        "    <tr>\n",
        "      <th>3</th>\n",
        "      <td> 1.50</td>\n",
        "      <td> 2.63</td>\n",
        "    </tr>\n",
        "    <tr>\n",
        "      <th>4</th>\n",
        "      <td> 1.50</td>\n",
        "      <td> 1.50</td>\n",
        "    </tr>\n",
        "    <tr>\n",
        "      <th>5</th>\n",
        "      <td> 2.25</td>\n",
        "      <td> 1.50</td>\n",
        "    </tr>\n",
        "    <tr>\n",
        "      <th>6</th>\n",
        "      <td> 3.00</td>\n",
        "      <td> 1.50</td>\n",
        "    </tr>\n",
        "    <tr>\n",
        "      <th>7</th>\n",
        "      <td> 3.00</td>\n",
        "      <td> 5.25</td>\n",
        "    </tr>\n",
        "    <tr>\n",
        "      <th>8</th>\n",
        "      <td> 3.00</td>\n",
        "      <td> 5.25</td>\n",
        "    </tr>\n",
        "    <tr>\n",
        "      <th>9</th>\n",
        "      <td> 2.25</td>\n",
        "      <td> 3.75</td>\n",
        "    </tr>\n",
        "  </tbody>\n",
        "</table>"
       ],
       "output_type": "pyout",
       "prompt_number": 29,
       "text": [
        "<IPython.core.display.HTML at 0x10107e090>"
       ]
      }
     ],
     "prompt_number": 29
    },
    {
     "cell_type": "markdown",
     "metadata": {},
     "source": [
      "### Panel is a collection of labelled tables"
     ]
    },
    {
     "cell_type": "code",
     "collapsed": false,
     "input": [
      "bid_ask_panel = Panel(dict(\n",
      "    prices=bid_ask_prices,\n",
      "    volume=bid_ask_volume))\n",
      "\n",
      "bid_ask_panel['volume'] "
     ],
     "language": "python",
     "metadata": {},
     "outputs": [
      {
       "html": [
        "<pre>\n",
        "&ltclass 'pandas.core.frame.DataFrame'&gt\n",
        "Int64Index: 58460 entries, 0 to 58459\n",
        "Data columns (total 2 columns):\n",
        "ask    58460  non-null values\n",
        "bid    58460  non-null values\n",
        "dtypes: float64(2)\n",
        "</pre>"
       ],
       "output_type": "pyout",
       "prompt_number": 44,
       "text": [
        "<class 'pandas.core.frame.DataFrame'>\n",
        "Int64Index: 58460 entries, 0 to 58459\n",
        "Data columns (total 2 columns):\n",
        "ask    58460  non-null values\n",
        "bid    58460  non-null values\n",
        "dtypes: float64(2)"
       ]
      }
     ],
     "prompt_number": 44
    },
    {
     "cell_type": "markdown",
     "metadata": {},
     "source": [
      "Becareful of using `len()` to find the number of rows in a `DataFrame` inside a `Panel`.  \n",
      "\n",
      "`Panel` will pad non-matching rows and columns across `DataFrames` with `NaN` and `len()` will include padded rows.  Instead, use `DataFrame.count()`."
     ]
    },
    {
     "cell_type": "markdown",
     "metadata": {},
     "source": [
      "### Reindexing"
     ]
    },
    {
     "cell_type": "code",
     "collapsed": false,
     "input": [
      "df = DataFrame(np.array(xrange(1,10)).reshape(5,5), index='x y z'.split(), columns='a b c'.split())\n",
      "print df.cumsum()"
     ],
     "language": "python",
     "metadata": {},
     "outputs": [
      {
       "output_type": "stream",
       "stream": "stdout",
       "text": [
        "    a   b   c\n",
        "x   1   2   3\n",
        "y   5   7   9\n",
        "z  12  15  18\n"
       ]
      }
     ],
     "prompt_number": 45
    },
    {
     "cell_type": "code",
     "collapsed": false,
     "input": [
      "df1 = df.reindex(index=list('zyx'), columns=list('cab'))\n",
      "df1"
     ],
     "language": "python",
     "metadata": {},
     "outputs": [
      {
       "html": [
        "<div style=\"max-height:1000px;max-width:1500px;overflow:auto;\">\n",
        "<table border=\"1\" class=\"dataframe\">\n",
        "  <thead>\n",
        "    <tr style=\"text-align: right;\">\n",
        "      <th></th>\n",
        "      <th>c</th>\n",
        "      <th>a</th>\n",
        "      <th>b</th>\n",
        "    </tr>\n",
        "  </thead>\n",
        "  <tbody>\n",
        "    <tr>\n",
        "      <th>z</th>\n",
        "      <td> 9</td>\n",
        "      <td> 7</td>\n",
        "      <td> 8</td>\n",
        "    </tr>\n",
        "    <tr>\n",
        "      <th>y</th>\n",
        "      <td> 6</td>\n",
        "      <td> 4</td>\n",
        "      <td> 5</td>\n",
        "    </tr>\n",
        "    <tr>\n",
        "      <th>x</th>\n",
        "      <td> 3</td>\n",
        "      <td> 1</td>\n",
        "      <td> 2</td>\n",
        "    </tr>\n",
        "  </tbody>\n",
        "</table>\n",
        "</div>"
       ],
       "output_type": "pyout",
       "prompt_number": 46,
       "text": [
        "   c  a  b\n",
        "z  9  7  8\n",
        "y  6  4  5\n",
        "x  3  1  2"
       ]
      }
     ],
     "prompt_number": 46
    },
    {
     "cell_type": "code",
     "collapsed": false,
     "input": [
      "df2 = DataFrame(np.array(range(1, 10)).reshape(3,3), index=list('zyx'), columns=list('cba'))\n",
      "df2"
     ],
     "language": "python",
     "metadata": {},
     "outputs": [
      {
       "html": [
        "<div style=\"max-height:1000px;max-width:1500px;overflow:auto;\">\n",
        "<table border=\"1\" class=\"dataframe\">\n",
        "  <thead>\n",
        "    <tr style=\"text-align: right;\">\n",
        "      <th></th>\n",
        "      <th>c</th>\n",
        "      <th>b</th>\n",
        "      <th>a</th>\n",
        "    </tr>\n",
        "  </thead>\n",
        "  <tbody>\n",
        "    <tr>\n",
        "      <th>z</th>\n",
        "      <td> 1</td>\n",
        "      <td> 2</td>\n",
        "      <td> 3</td>\n",
        "    </tr>\n",
        "    <tr>\n",
        "      <th>y</th>\n",
        "      <td> 4</td>\n",
        "      <td> 5</td>\n",
        "      <td> 6</td>\n",
        "    </tr>\n",
        "    <tr>\n",
        "      <th>x</th>\n",
        "      <td> 7</td>\n",
        "      <td> 8</td>\n",
        "      <td> 9</td>\n",
        "    </tr>\n",
        "  </tbody>\n",
        "</table>\n",
        "</div>"
       ],
       "output_type": "pyout",
       "prompt_number": 47,
       "text": [
        "   c  b  a\n",
        "z  1  2  3\n",
        "y  4  5  6\n",
        "x  7  8  9"
       ]
      }
     ],
     "prompt_number": 47
    },
    {
     "cell_type": "code",
     "collapsed": false,
     "input": [
      "df2.reindex_like(df1)"
     ],
     "language": "python",
     "metadata": {},
     "outputs": [
      {
       "html": [
        "<div style=\"max-height:1000px;max-width:1500px;overflow:auto;\">\n",
        "<table border=\"1\" class=\"dataframe\">\n",
        "  <thead>\n",
        "    <tr style=\"text-align: right;\">\n",
        "      <th></th>\n",
        "      <th>c</th>\n",
        "      <th>a</th>\n",
        "      <th>b</th>\n",
        "    </tr>\n",
        "  </thead>\n",
        "  <tbody>\n",
        "    <tr>\n",
        "      <th>z</th>\n",
        "      <td> 1</td>\n",
        "      <td> 3</td>\n",
        "      <td> 2</td>\n",
        "    </tr>\n",
        "    <tr>\n",
        "      <th>y</th>\n",
        "      <td> 4</td>\n",
        "      <td> 6</td>\n",
        "      <td> 5</td>\n",
        "    </tr>\n",
        "    <tr>\n",
        "      <th>x</th>\n",
        "      <td> 7</td>\n",
        "      <td> 9</td>\n",
        "      <td> 8</td>\n",
        "    </tr>\n",
        "  </tbody>\n",
        "</table>\n",
        "</div>"
       ],
       "output_type": "pyout",
       "prompt_number": 48,
       "text": [
        "   c  a  b\n",
        "z  1  3  2\n",
        "y  4  6  5\n",
        "x  7  9  8"
       ]
      }
     ],
     "prompt_number": 48
    },
    {
     "cell_type": "markdown",
     "metadata": {},
     "source": [
      "### Aggregation"
     ]
    },
    {
     "cell_type": "code",
     "collapsed": false,
     "input": [
      "df = DataFrame(dict(\n",
      "    Position=['Point Guard', 'Forward', 'Shooting Guard', 'Center'],\n",
      "    YrsOfExperience=[8, 9, 10, 7], \n",
      "    score=[18, 13, 20, 15]))\n",
      "df"
     ],
     "language": "python",
     "metadata": {},
     "outputs": [
      {
       "html": [
        "<div style=\"max-height:1000px;max-width:1500px;overflow:auto;\">\n",
        "<table border=\"1\" class=\"dataframe\">\n",
        "  <thead>\n",
        "    <tr style=\"text-align: right;\">\n",
        "      <th></th>\n",
        "      <th>Position</th>\n",
        "      <th>YrsOfExperience</th>\n",
        "      <th>score</th>\n",
        "    </tr>\n",
        "  </thead>\n",
        "  <tbody>\n",
        "    <tr>\n",
        "      <th>0</th>\n",
        "      <td>    Point Guard</td>\n",
        "      <td>  8</td>\n",
        "      <td> 18</td>\n",
        "    </tr>\n",
        "    <tr>\n",
        "      <th>1</th>\n",
        "      <td>        Forward</td>\n",
        "      <td>  9</td>\n",
        "      <td> 13</td>\n",
        "    </tr>\n",
        "    <tr>\n",
        "      <th>2</th>\n",
        "      <td> Shooting Guard</td>\n",
        "      <td> 10</td>\n",
        "      <td> 20</td>\n",
        "    </tr>\n",
        "    <tr>\n",
        "      <th>3</th>\n",
        "      <td>         Center</td>\n",
        "      <td>  7</td>\n",
        "      <td> 15</td>\n",
        "    </tr>\n",
        "  </tbody>\n",
        "</table>\n",
        "</div>"
       ],
       "output_type": "pyout",
       "prompt_number": 75,
       "text": [
        "         Position  YrsOfExperience  score\n",
        "0     Point Guard                8     18\n",
        "1         Forward                9     13\n",
        "2  Shooting Guard               10     20\n",
        "3          Center                7     15"
       ]
      }
     ],
     "prompt_number": 75
    },
    {
     "cell_type": "code",
     "collapsed": false,
     "input": [
      "df.groupby('Position').mean()"
     ],
     "language": "python",
     "metadata": {},
     "outputs": [
      {
       "html": [
        "<div style=\"max-height:1000px;max-width:1500px;overflow:auto;\">\n",
        "<table border=\"1\" class=\"dataframe\">\n",
        "  <thead>\n",
        "    <tr style=\"text-align: right;\">\n",
        "      <th></th>\n",
        "      <th>YrsOfExperience</th>\n",
        "      <th>score</th>\n",
        "    </tr>\n",
        "    <tr>\n",
        "      <th>Position</th>\n",
        "      <th></th>\n",
        "      <th></th>\n",
        "    </tr>\n",
        "  </thead>\n",
        "  <tbody>\n",
        "    <tr>\n",
        "      <th>Center</th>\n",
        "      <td>  7</td>\n",
        "      <td> 15</td>\n",
        "    </tr>\n",
        "    <tr>\n",
        "      <th>Forward</th>\n",
        "      <td>  9</td>\n",
        "      <td> 13</td>\n",
        "    </tr>\n",
        "    <tr>\n",
        "      <th>Point Guard</th>\n",
        "      <td>  8</td>\n",
        "      <td> 18</td>\n",
        "    </tr>\n",
        "    <tr>\n",
        "      <th>Shooting Guard</th>\n",
        "      <td> 10</td>\n",
        "      <td> 20</td>\n",
        "    </tr>\n",
        "  </tbody>\n",
        "</table>\n",
        "</div>"
       ],
       "output_type": "pyout",
       "prompt_number": 77,
       "text": [
        "                YrsOfExperience  score\n",
        "Position                              \n",
        "Center                        7     15\n",
        "Forward                       9     13\n",
        "Point Guard                   8     18\n",
        "Shooting Guard               10     20"
       ]
      }
     ],
     "prompt_number": 77
    },
    {
     "cell_type": "code",
     "collapsed": false,
     "input": [
      "df.groupby('YrsOfExperience').mean()"
     ],
     "language": "python",
     "metadata": {},
     "outputs": [
      {
       "html": [
        "<div style=\"max-height:1000px;max-width:1500px;overflow:auto;\">\n",
        "<table border=\"1\" class=\"dataframe\">\n",
        "  <thead>\n",
        "    <tr style=\"text-align: right;\">\n",
        "      <th></th>\n",
        "      <th>score</th>\n",
        "    </tr>\n",
        "    <tr>\n",
        "      <th>YrsOfExperience</th>\n",
        "      <th></th>\n",
        "    </tr>\n",
        "  </thead>\n",
        "  <tbody>\n",
        "    <tr>\n",
        "      <th>7 </th>\n",
        "      <td> 15</td>\n",
        "    </tr>\n",
        "    <tr>\n",
        "      <th>8 </th>\n",
        "      <td> 18</td>\n",
        "    </tr>\n",
        "    <tr>\n",
        "      <th>9 </th>\n",
        "      <td> 13</td>\n",
        "    </tr>\n",
        "    <tr>\n",
        "      <th>10</th>\n",
        "      <td> 20</td>\n",
        "    </tr>\n",
        "  </tbody>\n",
        "</table>\n",
        "</div>"
       ],
       "output_type": "pyout",
       "prompt_number": 78,
       "text": [
        "                 score\n",
        "YrsOfExperience       \n",
        "7                   15\n",
        "8                   18\n",
        "9                   13\n",
        "10                  20"
       ]
      }
     ],
     "prompt_number": 78
    },
    {
     "cell_type": "code",
     "collapsed": false,
     "input": [
      "print df.groupby('YrsOfExperience').aggregate([np.sum, np.mean, np.std])"
     ],
     "language": "python",
     "metadata": {},
     "outputs": [
      {
       "output_type": "stream",
       "stream": "stdout",
       "text": [
        "                 score           \n",
        "                   sum  mean  std\n",
        "YrsOfExperience                  \n",
        "7                   15    15  NaN\n",
        "8                   18    18  NaN\n",
        "9                   13    13  NaN\n",
        "10                  20    20  NaN\n"
       ]
      }
     ],
     "prompt_number": 79
    },
    {
     "cell_type": "code",
     "collapsed": false,
     "input": [
      "df.groupby('Position').describe()"
     ],
     "language": "python",
     "metadata": {},
     "outputs": [
      {
       "html": [
        "<div style=\"max-height:1000px;max-width:1500px;overflow:auto;\">\n",
        "<table border=\"1\" class=\"dataframe\">\n",
        "  <thead>\n",
        "    <tr style=\"text-align: right;\">\n",
        "      <th></th>\n",
        "      <th></th>\n",
        "      <th>YrsOfExperience</th>\n",
        "      <th>score</th>\n",
        "    </tr>\n",
        "    <tr>\n",
        "      <th>Position</th>\n",
        "      <th></th>\n",
        "      <th></th>\n",
        "      <th></th>\n",
        "    </tr>\n",
        "  </thead>\n",
        "  <tbody>\n",
        "    <tr>\n",
        "      <th rowspan=\"8\" valign=\"top\">Center</th>\n",
        "      <th>count</th>\n",
        "      <td>  1</td>\n",
        "      <td>  1</td>\n",
        "    </tr>\n",
        "    <tr>\n",
        "      <th>mean</th>\n",
        "      <td>  7</td>\n",
        "      <td> 15</td>\n",
        "    </tr>\n",
        "    <tr>\n",
        "      <th>std</th>\n",
        "      <td>NaN</td>\n",
        "      <td>NaN</td>\n",
        "    </tr>\n",
        "    <tr>\n",
        "      <th>min</th>\n",
        "      <td>  7</td>\n",
        "      <td> 15</td>\n",
        "    </tr>\n",
        "    <tr>\n",
        "      <th>25%</th>\n",
        "      <td>  7</td>\n",
        "      <td> 15</td>\n",
        "    </tr>\n",
        "    <tr>\n",
        "      <th>50%</th>\n",
        "      <td>  7</td>\n",
        "      <td> 15</td>\n",
        "    </tr>\n",
        "    <tr>\n",
        "      <th>75%</th>\n",
        "      <td>  7</td>\n",
        "      <td> 15</td>\n",
        "    </tr>\n",
        "    <tr>\n",
        "      <th>max</th>\n",
        "      <td>  7</td>\n",
        "      <td> 15</td>\n",
        "    </tr>\n",
        "    <tr>\n",
        "      <th rowspan=\"8\" valign=\"top\">Forward</th>\n",
        "      <th>count</th>\n",
        "      <td>  1</td>\n",
        "      <td>  1</td>\n",
        "    </tr>\n",
        "    <tr>\n",
        "      <th>mean</th>\n",
        "      <td>  9</td>\n",
        "      <td> 13</td>\n",
        "    </tr>\n",
        "    <tr>\n",
        "      <th>std</th>\n",
        "      <td>NaN</td>\n",
        "      <td>NaN</td>\n",
        "    </tr>\n",
        "    <tr>\n",
        "      <th>min</th>\n",
        "      <td>  9</td>\n",
        "      <td> 13</td>\n",
        "    </tr>\n",
        "    <tr>\n",
        "      <th>25%</th>\n",
        "      <td>  9</td>\n",
        "      <td> 13</td>\n",
        "    </tr>\n",
        "    <tr>\n",
        "      <th>50%</th>\n",
        "      <td>  9</td>\n",
        "      <td> 13</td>\n",
        "    </tr>\n",
        "    <tr>\n",
        "      <th>75%</th>\n",
        "      <td>  9</td>\n",
        "      <td> 13</td>\n",
        "    </tr>\n",
        "    <tr>\n",
        "      <th>max</th>\n",
        "      <td>  9</td>\n",
        "      <td> 13</td>\n",
        "    </tr>\n",
        "    <tr>\n",
        "      <th rowspan=\"8\" valign=\"top\">Point Guard</th>\n",
        "      <th>count</th>\n",
        "      <td>  1</td>\n",
        "      <td>  1</td>\n",
        "    </tr>\n",
        "    <tr>\n",
        "      <th>mean</th>\n",
        "      <td>  8</td>\n",
        "      <td> 18</td>\n",
        "    </tr>\n",
        "    <tr>\n",
        "      <th>std</th>\n",
        "      <td>NaN</td>\n",
        "      <td>NaN</td>\n",
        "    </tr>\n",
        "    <tr>\n",
        "      <th>min</th>\n",
        "      <td>  8</td>\n",
        "      <td> 18</td>\n",
        "    </tr>\n",
        "    <tr>\n",
        "      <th>25%</th>\n",
        "      <td>  8</td>\n",
        "      <td> 18</td>\n",
        "    </tr>\n",
        "    <tr>\n",
        "      <th>50%</th>\n",
        "      <td>  8</td>\n",
        "      <td> 18</td>\n",
        "    </tr>\n",
        "    <tr>\n",
        "      <th>75%</th>\n",
        "      <td>  8</td>\n",
        "      <td> 18</td>\n",
        "    </tr>\n",
        "    <tr>\n",
        "      <th>max</th>\n",
        "      <td>  8</td>\n",
        "      <td> 18</td>\n",
        "    </tr>\n",
        "    <tr>\n",
        "      <th rowspan=\"8\" valign=\"top\">Shooting Guard</th>\n",
        "      <th>count</th>\n",
        "      <td>  1</td>\n",
        "      <td>  1</td>\n",
        "    </tr>\n",
        "    <tr>\n",
        "      <th>mean</th>\n",
        "      <td> 10</td>\n",
        "      <td> 20</td>\n",
        "    </tr>\n",
        "    <tr>\n",
        "      <th>std</th>\n",
        "      <td>NaN</td>\n",
        "      <td>NaN</td>\n",
        "    </tr>\n",
        "    <tr>\n",
        "      <th>min</th>\n",
        "      <td> 10</td>\n",
        "      <td> 20</td>\n",
        "    </tr>\n",
        "    <tr>\n",
        "      <th>25%</th>\n",
        "      <td> 10</td>\n",
        "      <td> 20</td>\n",
        "    </tr>\n",
        "    <tr>\n",
        "      <th>50%</th>\n",
        "      <td> 10</td>\n",
        "      <td> 20</td>\n",
        "    </tr>\n",
        "    <tr>\n",
        "      <th>75%</th>\n",
        "      <td> 10</td>\n",
        "      <td> 20</td>\n",
        "    </tr>\n",
        "    <tr>\n",
        "      <th>max</th>\n",
        "      <td> 10</td>\n",
        "      <td> 20</td>\n",
        "    </tr>\n",
        "  </tbody>\n",
        "</table>\n",
        "</div>"
       ],
       "output_type": "pyout",
       "prompt_number": 80,
       "text": [
        "                      YrsOfExperience  score\n",
        "Position                                    \n",
        "Center         count                1      1\n",
        "               mean                 7     15\n",
        "               std                NaN    NaN\n",
        "               min                  7     15\n",
        "               25%                  7     15\n",
        "               50%                  7     15\n",
        "               75%                  7     15\n",
        "               max                  7     15\n",
        "Forward        count                1      1\n",
        "               mean                 9     13\n",
        "               std                NaN    NaN\n",
        "               min                  9     13\n",
        "               25%                  9     13\n",
        "               50%                  9     13\n",
        "               75%                  9     13\n",
        "               max                  9     13\n",
        "Point Guard    count                1      1\n",
        "               mean                 8     18\n",
        "               std                NaN    NaN\n",
        "               min                  8     18\n",
        "               25%                  8     18\n",
        "               50%                  8     18\n",
        "               75%                  8     18\n",
        "               max                  8     18\n",
        "Shooting Guard count                1      1\n",
        "               mean                10     20\n",
        "               std                NaN    NaN\n",
        "               min                 10     20\n",
        "               25%                 10     20\n",
        "               50%                 10     20\n",
        "               75%                 10     20\n",
        "               max                 10     20"
       ]
      }
     ],
     "prompt_number": 80
    },
    {
     "cell_type": "markdown",
     "metadata": {},
     "source": [
      "- [Pandas documentation](http://pandas.pydata.org/pandas-docs/dev)\n",
      "- [Pandas code repository](https://github.com/pydata/pandas)\n",
      "- [Pandas code example: Stock price analysis](https://github.com/pydata/pandas/blob/master/examples/finance.py)\n",
      "- [Pandas code example: Stock price regression](https://github.com/pydata/pandas/blob/master/examples/regressions.py)\n",
      "- [Clean data with Google Refine](http://code.google.com/p/google-refine/)"
     ]
    },
    {
     "cell_type": "code",
     "collapsed": false,
     "input": [],
     "language": "python",
     "metadata": {},
     "outputs": []
    }
   ],
   "metadata": {}
  }
 ]
}